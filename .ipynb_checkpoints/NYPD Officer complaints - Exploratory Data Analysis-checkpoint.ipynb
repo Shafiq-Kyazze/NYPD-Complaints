{
 "cells": [
  {
   "cell_type": "code",
   "execution_count": 1,
   "metadata": {},
   "outputs": [],
   "source": [
    "import pandas as pd\n",
    "import seaborn as sns; sns.set_style('darkgrid')\n",
    "import matplotlib.pyplot as plt\n",
    "import numpy as np\n",
    "%matplotlib inline"
   ]
  },
  {
   "cell_type": "code",
   "execution_count": 2,
   "metadata": {},
   "outputs": [
    {
     "name": "stdout",
     "output_type": "stream",
     "text": [
      "<class 'pandas.core.frame.DataFrame'>\n",
      "RangeIndex: 25384 entries, 0 to 25383\n",
      "Data columns (total 21 columns):\n",
      " #   Column                    Non-Null Count  Dtype  \n",
      "---  ------                    --------------  -----  \n",
      " 0   command_now               25384 non-null  object \n",
      " 1   month_received            25384 non-null  int64  \n",
      " 2   year_received             25384 non-null  int64  \n",
      " 3   month_closed              25384 non-null  int64  \n",
      " 4   year_closed               25384 non-null  int64  \n",
      " 5   command_at_incident       25384 non-null  object \n",
      " 6   rank_now                  25384 non-null  object \n",
      " 7   rank_incident             25384 non-null  object \n",
      " 8   mos_ethnicity             25384 non-null  object \n",
      " 9   mos_gender                25384 non-null  object \n",
      " 10  mos_age_incident          25384 non-null  int64  \n",
      " 11  complainant_ethnicity     25384 non-null  object \n",
      " 12  complainant_gender        25384 non-null  object \n",
      " 13  complainant_age_incident  25384 non-null  float64\n",
      " 14  fado_type                 25384 non-null  object \n",
      " 15  allegation                25384 non-null  object \n",
      " 16  precinct                  25384 non-null  int64  \n",
      " 17  contact_reason            25384 non-null  object \n",
      " 18  outcome_description       25384 non-null  object \n",
      " 19  board_disposition         25384 non-null  object \n",
      " 20  Name                      25384 non-null  object \n",
      "dtypes: float64(1), int64(6), object(14)\n",
      "memory usage: 4.1+ MB\n"
     ]
    },
    {
     "data": {
      "text/html": [
       "<div>\n",
       "<style scoped>\n",
       "    .dataframe tbody tr th:only-of-type {\n",
       "        vertical-align: middle;\n",
       "    }\n",
       "\n",
       "    .dataframe tbody tr th {\n",
       "        vertical-align: top;\n",
       "    }\n",
       "\n",
       "    .dataframe thead th {\n",
       "        text-align: right;\n",
       "    }\n",
       "</style>\n",
       "<table border=\"1\" class=\"dataframe\">\n",
       "  <thead>\n",
       "    <tr style=\"text-align: right;\">\n",
       "      <th></th>\n",
       "      <th>command_now</th>\n",
       "      <th>month_received</th>\n",
       "      <th>year_received</th>\n",
       "      <th>month_closed</th>\n",
       "      <th>year_closed</th>\n",
       "      <th>command_at_incident</th>\n",
       "      <th>rank_now</th>\n",
       "      <th>rank_incident</th>\n",
       "      <th>mos_ethnicity</th>\n",
       "      <th>mos_gender</th>\n",
       "      <th>...</th>\n",
       "      <th>complainant_ethnicity</th>\n",
       "      <th>complainant_gender</th>\n",
       "      <th>complainant_age_incident</th>\n",
       "      <th>fado_type</th>\n",
       "      <th>allegation</th>\n",
       "      <th>precinct</th>\n",
       "      <th>contact_reason</th>\n",
       "      <th>outcome_description</th>\n",
       "      <th>board_disposition</th>\n",
       "      <th>Name</th>\n",
       "    </tr>\n",
       "  </thead>\n",
       "  <tbody>\n",
       "    <tr>\n",
       "      <th>0</th>\n",
       "      <td>078 Precinct</td>\n",
       "      <td>7</td>\n",
       "      <td>2019</td>\n",
       "      <td>5</td>\n",
       "      <td>2020</td>\n",
       "      <td>078 Precinct</td>\n",
       "      <td>Police Officer</td>\n",
       "      <td>Police Officer</td>\n",
       "      <td>Hispanic</td>\n",
       "      <td>Male</td>\n",
       "      <td>...</td>\n",
       "      <td>Black</td>\n",
       "      <td>Female</td>\n",
       "      <td>38.0</td>\n",
       "      <td>Abuse of Authority</td>\n",
       "      <td>Failure to provide RTKA card</td>\n",
       "      <td>78</td>\n",
       "      <td>Report-domestic dispute</td>\n",
       "      <td>No arrest made or summons issued</td>\n",
       "      <td>Substantiated (Command Lvl Instructions)</td>\n",
       "      <td>Jonathan Ruiz</td>\n",
       "    </tr>\n",
       "    <tr>\n",
       "      <th>1</th>\n",
       "      <td>078 Precinct</td>\n",
       "      <td>11</td>\n",
       "      <td>2011</td>\n",
       "      <td>8</td>\n",
       "      <td>2012</td>\n",
       "      <td>Patrol Borough Brooklyn South</td>\n",
       "      <td>Police Officer</td>\n",
       "      <td>Police Officer</td>\n",
       "      <td>White</td>\n",
       "      <td>Male</td>\n",
       "      <td>...</td>\n",
       "      <td>Black</td>\n",
       "      <td>Male</td>\n",
       "      <td>26.0</td>\n",
       "      <td>Discourtesy</td>\n",
       "      <td>Action</td>\n",
       "      <td>67</td>\n",
       "      <td>Moving violation</td>\n",
       "      <td>Moving violation summons issued</td>\n",
       "      <td>Substantiated (Charges)</td>\n",
       "      <td>John Sears</td>\n",
       "    </tr>\n",
       "    <tr>\n",
       "      <th>2</th>\n",
       "      <td>078 Precinct</td>\n",
       "      <td>11</td>\n",
       "      <td>2011</td>\n",
       "      <td>8</td>\n",
       "      <td>2012</td>\n",
       "      <td>Patrol Borough Brooklyn South</td>\n",
       "      <td>Police Officer</td>\n",
       "      <td>Police Officer</td>\n",
       "      <td>White</td>\n",
       "      <td>Male</td>\n",
       "      <td>...</td>\n",
       "      <td>Black</td>\n",
       "      <td>Male</td>\n",
       "      <td>26.0</td>\n",
       "      <td>Offensive Language</td>\n",
       "      <td>Race</td>\n",
       "      <td>67</td>\n",
       "      <td>Moving violation</td>\n",
       "      <td>Moving violation summons issued</td>\n",
       "      <td>Substantiated (Charges)</td>\n",
       "      <td>John Sears</td>\n",
       "    </tr>\n",
       "    <tr>\n",
       "      <th>3</th>\n",
       "      <td>078 Precinct</td>\n",
       "      <td>7</td>\n",
       "      <td>2012</td>\n",
       "      <td>9</td>\n",
       "      <td>2013</td>\n",
       "      <td>Patrol Borough Brooklyn South</td>\n",
       "      <td>Police Officer</td>\n",
       "      <td>Police Officer</td>\n",
       "      <td>White</td>\n",
       "      <td>Male</td>\n",
       "      <td>...</td>\n",
       "      <td>Black</td>\n",
       "      <td>Male</td>\n",
       "      <td>45.0</td>\n",
       "      <td>Abuse of Authority</td>\n",
       "      <td>Question</td>\n",
       "      <td>67</td>\n",
       "      <td>PD suspected C/V of violation/crime - street</td>\n",
       "      <td>No arrest made or summons issued</td>\n",
       "      <td>Substantiated (Charges)</td>\n",
       "      <td>John Sears</td>\n",
       "    </tr>\n",
       "    <tr>\n",
       "      <th>4</th>\n",
       "      <td>078 Precinct</td>\n",
       "      <td>5</td>\n",
       "      <td>2017</td>\n",
       "      <td>10</td>\n",
       "      <td>2017</td>\n",
       "      <td>078 Precinct</td>\n",
       "      <td>Sergeant</td>\n",
       "      <td>Sergeant</td>\n",
       "      <td>Black</td>\n",
       "      <td>Female</td>\n",
       "      <td>...</td>\n",
       "      <td>White</td>\n",
       "      <td>Male</td>\n",
       "      <td>31.0</td>\n",
       "      <td>Abuse of Authority</td>\n",
       "      <td>Refusal to process civilian complaint</td>\n",
       "      <td>78</td>\n",
       "      <td>C/V telephoned PCT</td>\n",
       "      <td>No arrest made or summons issued</td>\n",
       "      <td>Substantiated (Command Lvl Instructions)</td>\n",
       "      <td>Paula Smith</td>\n",
       "    </tr>\n",
       "  </tbody>\n",
       "</table>\n",
       "<p>5 rows × 21 columns</p>\n",
       "</div>"
      ],
      "text/plain": [
       "    command_now  month_received  year_received  month_closed  year_closed  \\\n",
       "0  078 Precinct               7           2019             5         2020   \n",
       "1  078 Precinct              11           2011             8         2012   \n",
       "2  078 Precinct              11           2011             8         2012   \n",
       "3  078 Precinct               7           2012             9         2013   \n",
       "4  078 Precinct               5           2017            10         2017   \n",
       "\n",
       "             command_at_incident        rank_now   rank_incident  \\\n",
       "0                   078 Precinct  Police Officer  Police Officer   \n",
       "1  Patrol Borough Brooklyn South  Police Officer  Police Officer   \n",
       "2  Patrol Borough Brooklyn South  Police Officer  Police Officer   \n",
       "3  Patrol Borough Brooklyn South  Police Officer  Police Officer   \n",
       "4                   078 Precinct        Sergeant        Sergeant   \n",
       "\n",
       "  mos_ethnicity mos_gender  ...  complainant_ethnicity complainant_gender  \\\n",
       "0      Hispanic       Male  ...                  Black             Female   \n",
       "1         White       Male  ...                  Black               Male   \n",
       "2         White       Male  ...                  Black               Male   \n",
       "3         White       Male  ...                  Black               Male   \n",
       "4         Black     Female  ...                  White               Male   \n",
       "\n",
       "  complainant_age_incident           fado_type  \\\n",
       "0                     38.0  Abuse of Authority   \n",
       "1                     26.0         Discourtesy   \n",
       "2                     26.0  Offensive Language   \n",
       "3                     45.0  Abuse of Authority   \n",
       "4                     31.0  Abuse of Authority   \n",
       "\n",
       "                              allegation precinct  \\\n",
       "0           Failure to provide RTKA card       78   \n",
       "1                                 Action       67   \n",
       "2                                   Race       67   \n",
       "3                               Question       67   \n",
       "4  Refusal to process civilian complaint       78   \n",
       "\n",
       "                                 contact_reason  \\\n",
       "0                       Report-domestic dispute   \n",
       "1                              Moving violation   \n",
       "2                              Moving violation   \n",
       "3  PD suspected C/V of violation/crime - street   \n",
       "4                            C/V telephoned PCT   \n",
       "\n",
       "                outcome_description                         board_disposition  \\\n",
       "0  No arrest made or summons issued  Substantiated (Command Lvl Instructions)   \n",
       "1   Moving violation summons issued                   Substantiated (Charges)   \n",
       "2   Moving violation summons issued                   Substantiated (Charges)   \n",
       "3  No arrest made or summons issued                   Substantiated (Charges)   \n",
       "4  No arrest made or summons issued  Substantiated (Command Lvl Instructions)   \n",
       "\n",
       "            Name  \n",
       "0  Jonathan Ruiz  \n",
       "1     John Sears  \n",
       "2     John Sears  \n",
       "3     John Sears  \n",
       "4    Paula Smith  \n",
       "\n",
       "[5 rows x 21 columns]"
      ]
     },
     "execution_count": 2,
     "metadata": {},
     "output_type": "execute_result"
    }
   ],
   "source": [
    "df = pd.read_excel(r'D:\\Jupyter notebook\\Data sets\\CCRB-Complaint-Data_202007271729\\Cleaned_NYPD_dataset.xlsx')\n",
    "df.info()\n",
    "df.head(5)  #checking the dataset to verify if I've got the right data set"
   ]
  },
  {
   "cell_type": "markdown",
   "metadata": {},
   "source": [
    "### We'll explore the impact of the police and how it affects the likelihood of an offence happening. \n",
    "We'll look at categories such as  age, Rank,gender and Precinct"
   ]
  },
  {
   "cell_type": "code",
   "execution_count": 3,
   "metadata": {},
   "outputs": [
    {
     "data": {
      "image/png": "[encoded data removed]",
      "text/plain": [
       "<Figure size 864x576 with 1 Axes>"
      ]
     },
     "metadata": {
      "needs_background": "light"
     },
     "output_type": "display_data"
    }
   ],
   "source": [
    "#We'll create a new officer age column where age is categorised in below 20s,20s,30s,40s and so forth\n",
    "df['Age_group'] =  round((df.mos_age_incident//10)*10 , 0)\n",
    "plt.figure(figsize=(12, 8))\n",
    "sns.countplot(data = df ,y='Age_group',palette=\"twilight_r\",orient='h')\n",
    "df.Age_group.unique()\n",
    "plt.savefig('Officer age group')"
   ]
  },
  {
   "cell_type": "code",
   "execution_count": 4,
   "metadata": {},
   "outputs": [
    {
     "name": "stdout",
     "output_type": "stream",
     "text": [
      "20s age group: 25.0\n",
      "30s age group: 25.0\n",
      "40s age group: 26.0\n",
      "50s age group: 30.0\n",
      "60s age group: 50.0\n"
     ]
    }
   ],
   "source": [
    "#We can see that NYPD officers in their 30s are more likely to have with complaints than any other age group \n",
    "#let's compare the officer age group that was more likely to be exonerated\n",
    "#First we'll create a column describing if the officer's force was deemed Substantiated,Unsubstantiated or exonerated by the  CCRB\n",
    "\n",
    "def ccrb_check(x):\n",
    "    if 'unsubstantiated' in x.lower().split():\n",
    "        return 'unsubstantiated'\n",
    "    elif 'substantiated' in x.lower().split():\n",
    "        return 'substantiated'\n",
    "    elif 'exonerated' in x.lower().split():\n",
    "        return 'exonerated'\n",
    "    \n",
    "df['CCRB_CHECK'] = df.board_disposition.apply(lambda x: ccrb_check(x) )\n",
    "\n",
    "Twenty_not_exonerated = df[(df.CCRB_CHECK == 'substantiated') & (df.Age_group == 20)]['Name'].count()/df[df.Age_group == 20]['Name'].count()\n",
    "Thirty_not_exonerated = df[(df.CCRB_CHECK == 'substantiated') & (df.Age_group == 30)]['Name'].count()/df[df.Age_group == 30]['Name'].count()\n",
    "Forty_not_exonerated = df[(df.CCRB_CHECK == 'substantiated') & (df.Age_group == 40)]['Name'].count()/df[df.Age_group == 40]['Name'].count()\n",
    "fifty_not_exonerated = df[(df.CCRB_CHECK == 'substantiated') & (df.Age_group == 50)]['Name'].count()/df[df.Age_group == 50]['Name'].count()\n",
    "sixty_not_exonerated = df[(df.CCRB_CHECK == 'substantiated') & (df.Age_group == 60)]['Name'].count()/df[df.Age_group == 60]['Name'].count()\n",
    "\n",
    "twenty = '20s age group: ' + str(np.ceil(Twenty_not_exonerated*100))\n",
    "thirties = '30s age group: ' + str(np.ceil(Thirty_not_exonerated*100))\n",
    "forties = '40s age group: ' +str(np.ceil(Forty_not_exonerated*100))\n",
    "fifties = '50s age group: ' +str(np.ceil(fifty_not_exonerated*100))\n",
    "sixties = '60s age group: '+str(np.ceil(sixty_not_exonerated*100))\n",
    "print(twenty,thirties,forties,fifties,sixties, sep='\\n')"
   ]
  },
  {
   "cell_type": "markdown",
   "metadata": {},
   "source": [
    "From the data above, we can see that officers in their 60s and 50s are more likely to be found guilty of miscounduct . In general,by the CCRB. In short, the older the officer, the less likely they are to get exonerated.\n",
    "###### Next we're going to look at the precincts"
   ]
  },
  {
   "cell_type": "code",
   "execution_count": 5,
   "metadata": {},
   "outputs": [
    {
     "data": {
      "text/plain": [
       "75     1645\n",
       "73      910\n",
       "79      881\n",
       "44      858\n",
       "40      850\n",
       "46      843\n",
       "67      802\n",
       "77      736\n",
       "47      685\n",
       "120     620\n",
       "Name: precinct, dtype: int64"
      ]
     },
     "execution_count": 5,
     "metadata": {},
     "output_type": "execute_result"
    }
   ],
   "source": [
    "df.precinct.value_counts(ascending=False).head(10) #top 10 highest precincts with complaints"
   ]
  },
  {
   "cell_type": "code",
   "execution_count": 6,
   "metadata": {},
   "outputs": [
    {
     "name": "stdout",
     "output_type": "stream",
     "text": [
      "CCRB_CHECK  precinct  %exonerated  %substantiated  %unsubstantiated\n",
      "Index                                                              \n",
      "1                100         37.8            19.4              42.9\n",
      "2                 10         37.3            24.3              38.4\n",
      "3                 24         36.9            25.7              37.4\n",
      "4                107         35.7            31.0              33.3\n",
      "5                 90         35.1            21.8              43.2\n",
      "...              ...          ...             ...               ...\n",
      "74                72         19.9            26.7              53.4\n",
      "75               108         18.4            34.0              47.6\n",
      "76                 5         16.2            40.0              43.8\n",
      "77               111         15.4            46.2              38.5\n",
      "78              1000          NaN             NaN               NaN\n",
      "\n",
      "[78 rows x 4 columns]\n",
      " \n",
      " \n",
      " \n",
      "CCRB_CHECK  precinct  %exonerated  %substantiated  %unsubstantiated\n",
      "Index                                                              \n",
      "77               111         15.4            46.2              38.5\n",
      "76                 5         16.2            40.0              43.8\n",
      "73                22         20.0            40.0              40.0\n",
      "51                 1         25.9            39.6              34.5\n",
      "57                20         24.2            37.9              37.9\n",
      "...              ...          ...             ...               ...\n",
      "10                71         32.1            19.2              48.6\n",
      "36                75         27.9            18.5              53.6\n",
      "12               120         31.0            17.4              51.6\n",
      "11                 9         32.0            17.0              51.0\n",
      "78              1000          NaN             NaN               NaN\n",
      "\n",
      "[78 rows x 4 columns]\n"
     ]
    }
   ],
   "source": [
    "#We'll explore the percentage of NYPD  officers that are exonerated or not per precinct for the top 1o highest precincts\n",
    "pt= pd.pivot_table(df,values='fado_type',aggfunc='count',index='precinct',columns='CCRB_CHECK').sort_values(by='precinct',ascending=False)\n",
    "pt['%exonerated'] = round(pt.exonerated/(pt.exonerated+pt.substantiated+pt.unsubstantiated) *100,1)\n",
    "pt['%substantiated'] = round(pt.substantiated/(pt.exonerated+pt.substantiated+pt.unsubstantiated) *100,1)\n",
    "pt['%unsubstantiated'] = round(pt.unsubstantiated/(pt.exonerated+pt.substantiated+pt.unsubstantiated) *100,1)\n",
    "pt.drop(['exonerated','substantiated','unsubstantiated'],axis=1,inplace=True)\n",
    "pt.sort_values(by='%exonerated',ascending=False,inplace=True)\n",
    "pt['Index'] = np.arange(1,79)\n",
    "pt.reset_index(inplace=True)\n",
    "pt.set_index('Index',inplace=True)\n",
    "print(pt,pt.sort_values(by='%substantiated',ascending=False),sep='\\n \\n \\n \\n')"
   ]
  },
  {
   "cell_type": "markdown",
   "metadata": {},
   "source": [
    "#### Precinct 75 has the most number of complaints which are almost 2times the amount of the precinct with the second highest complaints\n",
    "Officers from precinct 100 had the highest exoneration rate \n",
    "Officers from precicnt 77 had were most likely to be found in misconduct by the CCRB"
   ]
  },
  {
   "cell_type": "code",
   "execution_count": 7,
   "metadata": {},
   "outputs": [
    {
     "data": {
      "text/plain": [
       "<matplotlib.axes._subplots.AxesSubplot at 0x2a4053b7c08>"
      ]
     },
     "execution_count": 7,
     "metadata": {},
     "output_type": "execute_result"
    },
    {
     "data": {
      "image/png": "[encoded data removed]",
      "text/plain": [
       "<Figure size 864x576 with 1 Axes>"
      ]
     },
     "metadata": {
      "needs_background": "light"
     },
     "output_type": "display_data"
    }
   ],
   "source": [
    "#### The rank of the officers and the complaints will be explored\n",
    "fig=plt.figure(figsize=(12, 8))\n",
    "sns.countplot(x='rank_incident',data=df,palette='plasma_r')"
   ]
  },
  {
   "cell_type": "markdown",
   "metadata": {},
   "source": [
    "The number of complaints goes down with an increase in rank. This could be attributed to more experience and less contact with criminals and civilians"
   ]
  },
  {
   "cell_type": "code",
   "execution_count": 8,
   "metadata": {
    "scrolled": true
   },
   "outputs": [
    {
     "data": {
      "text/plain": [
       "<matplotlib.axes._subplots.AxesSubplot at 0x2a4053ade48>"
      ]
     },
     "execution_count": 8,
     "metadata": {},
     "output_type": "execute_result"
    },
    {
     "data": {
      "image/png": "[encoded data removed]",
      "text/plain": [
       "<Figure size 864x576 with 1 Axes>"
      ]
     },
     "metadata": {
      "needs_background": "light"
     },
     "output_type": "display_data"
    }
   ],
   "source": [
    "#Let's take a look at how rank varies with sex in the NYPD and how an officer's sex affects the way they misconduct themselves\n",
    "fig=plt.figure(figsize=(12, 8))\n",
    "sns.countplot(x='rank_incident',data=df,hue='mos_gender',palette='BuPu')"
   ]
  },
  {
   "cell_type": "code",
   "execution_count": 9,
   "metadata": {},
   "outputs": [
    {
     "name": "stdout",
     "output_type": "stream",
     "text": [
      "['Stop' 'Search (of person)' 'Frisk' 'Premises entered and/or searched'\n",
      " 'Refusal to provide name/shield number' 'Vehicle search'\n",
      " 'Threat of arrest' 'Vehicle stop' 'Threat of force (verbal or physical)'\n",
      " 'Question and/or stop' 'Strip-searched' 'Question' 'Other'\n",
      " 'Property damaged' 'Retaliatory summons' 'Entry of Premises'\n",
      " 'Refusal to obtain medical treatment' 'Frisk and/or search'\n",
      " 'Refusal to process civilian complaint' 'Gun Drawn' 'Seizure of property'\n",
      " 'Failure to provide RTKA card' 'Threat to damage/seize property'\n",
      " 'Search of Premises' 'Retaliatory arrest'\n",
      " 'Refusal to show search warrant' 'Forcible Removal to Hospital'\n",
      " 'Threat of summons' 'Interference with recording' 'Threat to notify ACS'\n",
      " 'Refusal to provide shield number' 'Refusal to provide name'\n",
      " 'Person Searched' 'Threat of force' 'Other - Abuse' 'Threat of Arrest'\n",
      " 'Premise Searched' 'Property Damaged' 'Search of recording device'\n",
      " 'Vehicle Searched' 'Threat re: removal to hospital' 'Detention'\n",
      " 'Photography/Videography' 'Threat to Property'\n",
      " 'Sexual Misconduct (Sexual Humiliation)'\n",
      " 'Sex Miscon (Sexual Harassment, Verbal)'\n",
      " 'Electronic device information deletion' 'Refusal to show arrest warrant'\n",
      " 'Gun pointed/gun drawn' 'Property Seized' 'Arrest/D. A. T.'\n",
      " 'Threat of Summons' 'Sh Refuse Cmp'\n",
      " 'Sex Miscon (Sexual/Romantic Proposition)'\n",
      " 'Improper dissemination of medical info' 'Arrest/Onlooker'\n",
      " 'Body Cavity Searches' 'Gun pointed'\n",
      " 'Sex Miscon (Sexual Harassment, Gesture)'\n",
      " 'Failed to Obtain Language Interpretation'\n",
      " 'Questioned immigration status']\n"
     ]
    }
   ],
   "source": [
    "#There are less female officers with complaints compared to male officers\n",
    "#Let's take a look a the ways both sexes misconduct themselves\n",
    "#first we'll explore the complaint words in each fado_type to get a better understanding of what each fado_type\n",
    "#We'll bring up the glossary and check Sheet4/Tab 3 for unique words per fado type\n",
    "s4 =pd.read_excel(r'D:\\Jupyter notebook\\Data sets\\CCRB-Complaint-Data_202007271729\\CCRB Data Layout Table.xlsx',sheet_name=3)\n",
    "Discourtesy = s4[s4['FADO Category'] == 'Discourtesy']['Allegation type'].unique()\n",
    "Force= s4[s4['FADO Category'] == 'Force']['Allegation type'].unique()\n",
    "Abuse_of_Athority =  s4[s4['FADO Category'] == 'Abuse of Authority']['Allegation type'].unique()\n",
    "Offensive_language =  s4[s4['FADO Category'] == 'Offensive Language']['Allegation type'].unique()\n",
    "print(Abuse_of_Athority)"
   ]
  },
  {
   "cell_type": "code",
   "execution_count": 10,
   "metadata": {},
   "outputs": [
    {
     "name": "stdout",
     "output_type": "stream",
     "text": [
      "['Word' 'Action' 'Curse' 'Nasty Words' 'Gesture' 'Demeanor/tone'\n",
      " 'Other- Discourtesy' 'Other' 'Rude Gesture' 'Profane Gesture'\n",
      " 'Gay/Lesbian Slur' 'Sexist Remark']\n"
     ]
    }
   ],
   "source": [
    "#The unique words above give us an insight into the examples of anofficer abusing his authority\n",
    "print(Discourtesy)"
   ]
  },
  {
   "cell_type": "code",
   "execution_count": 11,
   "metadata": {},
   "outputs": [
    {
     "name": "stdout",
     "output_type": "stream",
     "text": [
      "['Physical force' 'Gun Pointed' 'Pepper spray'\n",
      " 'Nightstick as club (incl asp & baton)' 'Chokehold' 'Push/Shove'\n",
      " 'Hit against inanimate object' 'Other - Force' 'Other' 'Punch/Kick'\n",
      " 'Nonlethal restraining device' 'Handcuffs too tight' 'Dragged/Pulled'\n",
      " 'Beat' 'Other blunt instrument as a club' 'Gun fired' 'Vehicle'\n",
      " 'Gun as club' 'Nightstick/Billy/Club' 'Radio as club'\n",
      " 'Restricted Breathing' 'Mace' 'Flashlight as club' 'Slap' 'Radio As Club'\n",
      " 'Gun As Club' 'Police shield' 'Flashlight As Club' 'Animal' 'Gun Fired']\n"
     ]
    }
   ],
   "source": [
    "#We can see that some words in the Discourtesy fado type are actually better suited for the offensive language fado type\n",
    "#Words such as 'Gay/Lesbian Slur' 'Sexist Remark','Curse' 'Nasty Words'\n",
    "#It safe to say that the Discourtesy and Offensive language fado types intersect alot\n",
    "print(Force)"
   ]
  },
  {
   "cell_type": "code",
   "execution_count": 12,
   "metadata": {},
   "outputs": [
    {
     "name": "stdout",
     "output_type": "stream",
     "text": [
      "['Black' 'Ethnicity' 'Gender' 'Gender Identity' 'Hispanic' 'Jewish'\n",
      " 'Oriental' 'Other' 'Other - Ethnic Slur' 'Other Asian'\n",
      " 'Physical disability' 'Race' 'Religion' 'Sexual orientation' 'White']\n"
     ]
    }
   ],
   "source": [
    "print(Offensive_language)"
   ]
  },
  {
   "cell_type": "markdown",
   "metadata": {},
   "source": [
    "##### After getting a better understanding of each fado type, we can now move onto analysing the fado type common for each sex"
   ]
  },
  {
   "cell_type": "code",
   "execution_count": 13,
   "metadata": {},
   "outputs": [
    {
     "data": {
      "image/png": "[encoded data removed]",
      "text/plain": [
       "<Figure size 864x576 with 1 Axes>"
      ]
     },
     "metadata": {
      "needs_background": "light"
     },
     "output_type": "display_data"
    }
   ],
   "source": [
    "plt.figure(figsize=(12,8))\n",
    "sns.countplot(data=df,y='fado_type',hue='mos_gender',palette='YlGnBu_r')\n",
    "plt.savefig('fado_type, hue=officer gender')"
   ]
  },
  {
   "cell_type": "markdown",
   "metadata": {},
   "source": [
    "###### The graph above shows that Abuse of authority is a common misconduct amongst both sexes. Let's make a table of the percentage representation of both genders per fado_type"
   ]
  },
  {
   "cell_type": "code",
   "execution_count": 14,
   "metadata": {},
   "outputs": [
    {
     "data": {
      "text/html": [
       "<div>\n",
       "<style scoped>\n",
       "    .dataframe tbody tr th:only-of-type {\n",
       "        vertical-align: middle;\n",
       "    }\n",
       "\n",
       "    .dataframe tbody tr th {\n",
       "        vertical-align: top;\n",
       "    }\n",
       "\n",
       "    .dataframe thead th {\n",
       "        text-align: right;\n",
       "    }\n",
       "</style>\n",
       "<table border=\"1\" class=\"dataframe\">\n",
       "  <thead>\n",
       "    <tr style=\"text-align: right;\">\n",
       "      <th></th>\n",
       "      <th>Female Officer</th>\n",
       "      <th>Male</th>\n",
       "    </tr>\n",
       "  </thead>\n",
       "  <tbody>\n",
       "    <tr>\n",
       "      <th>Abuse of Authority</th>\n",
       "      <td>6.2</td>\n",
       "      <td>93.8</td>\n",
       "    </tr>\n",
       "    <tr>\n",
       "      <th>Discourtesy</th>\n",
       "      <td>6.0</td>\n",
       "      <td>94.0</td>\n",
       "    </tr>\n",
       "    <tr>\n",
       "      <th>Offensive Language</th>\n",
       "      <td>5.6</td>\n",
       "      <td>94.4</td>\n",
       "    </tr>\n",
       "    <tr>\n",
       "      <th>Force</th>\n",
       "      <td>3.8</td>\n",
       "      <td>96.2</td>\n",
       "    </tr>\n",
       "  </tbody>\n",
       "</table>\n",
       "</div>"
      ],
      "text/plain": [
       "                    Female Officer  Male\n",
       "Abuse of Authority             6.2  93.8\n",
       "Discourtesy                    6.0  94.0\n",
       "Offensive Language             5.6  94.4\n",
       "Force                          3.8  96.2"
      ]
     },
     "execution_count": 14,
     "metadata": {},
     "output_type": "execute_result"
    }
   ],
   "source": [
    "F_abuse_of_authority = df[(df.fado_type == 'Abuse of Authority') & (df.mos_gender == 'Female')].Name.count() /df[df.fado_type == 'Abuse of Authority'].Name.count()\n",
    "F_Discourtesy = df[(df.fado_type == 'Discourtesy') & (df.mos_gender == 'Female')].Name.count()/df[df.fado_type == 'Discourtesy'].Name.count()\n",
    "F_Offensive_Language = df[(df.fado_type == 'Offensive Language') & (df.mos_gender == 'Female')].Name.count() / df[df.fado_type == 'Offensive Language'].Name.count()\n",
    "F_Force = df[(df.fado_type == 'Force') & (df.mos_gender == 'Female')].Name.count()/df[df.fado_type == 'Force'].Name.count()\n",
    "Female_Officer =[round(F_abuse_of_authority*100,1),round(F_Discourtesy*100,1),round(F_Offensive_Language*100,1),round(F_Force*100,1)]\n",
    "\n",
    "M_abuse_of_authority = df[(df.fado_type == 'Abuse of Authority') & (df.mos_gender == 'Male')].Name.count()/df[df.fado_type == 'Abuse of Authority'].Name.count()\n",
    "M_Discourtesy = df[(df.fado_type == 'Discourtesy') & (df.mos_gender == 'Male')].Name.count()/df[df.fado_type == 'Discourtesy'].Name.count()\n",
    "M_Offensive_Language = df[(df.fado_type == 'Offensive Language') & (df.mos_gender == 'Male')].Name.count()/df[df.fado_type == 'Offensive Language'].Name.count()\n",
    "M_Force = df[(df.fado_type == 'Force') & (df.mos_gender == 'Male')].Name.count()/df[df.fado_type == 'Force'].Name.count()\n",
    "Male_Officer = [round(M_abuse_of_authority*100,1),round(M_Discourtesy*100,1),round(M_Offensive_Language*100,1),round(M_Force*100,1)]\n",
    "\n",
    "gend_dict = {'Female Officer':Female_Officer,'Male':Male_Officer}\n",
    "gend_table = pd.DataFrame(gend_dict,index=['Abuse of Authority', 'Discourtesy', 'Offensive Language', 'Force'])\n",
    "gend_table.head(5)"
   ]
  },
  {
   "cell_type": "markdown",
   "metadata": {},
   "source": [
    "##### As shown from the table  above, female officers are less represented in misconduct complaints that involved force and Offensive language compared to their male counterparts.\n",
    "##### Female officers are more likely to abuse their authority when misconducting themselves whilst their male counterparts are more likely to use force \n",
    "##### Male NYPD officers are more aggressive than their female counterparts"
   ]
  },
  {
   "cell_type": "markdown",
   "metadata": {},
   "source": [
    "We will now look at how the gender breakdown of the complainants"
   ]
  },
  {
   "cell_type": "code",
   "execution_count": 15,
   "metadata": {},
   "outputs": [
    {
     "data": {
      "text/plain": [
       "<matplotlib.axes._subplots.AxesSubplot at 0x2a405385c08>"
      ]
     },
     "execution_count": 15,
     "metadata": {},
     "output_type": "execute_result"
    },
    {
     "data": {
      "image/png": "[encoded data removed]",
      "text/plain": [
       "<Figure size 1080x720 with 1 Axes>"
      ]
     },
     "metadata": {
      "needs_background": "light"
     },
     "output_type": "display_data"
    }
   ],
   "source": [
    "plt.figure(figsize=(15,10))\n",
    "sns.countplot(hue='fado_type',y='complainant_gender',data=df,palette='Blues')"
   ]
  },
  {
   "cell_type": "code",
   "execution_count": 16,
   "metadata": {},
   "outputs": [
    {
     "data": {
      "text/plain": [
       "array(['Failure to provide RTKA card', 'Action', 'Race', 'Question',\n",
       "       'Refusal to process civilian complaint', 'Sexual orientation',\n",
       "       'Word', 'Refusal to provide shield number', 'Retaliatory summons',\n",
       "       'Search (of person)', 'Pepper spray', 'Physical force',\n",
       "       'Handcuffs too tight', 'Frisk', 'Vehicle stop', 'Vehicle search',\n",
       "       'Refusal to provide name/shield number', 'Strip-searched',\n",
       "       'Threat of arrest', 'Threat of force (verbal or physical)', 'Stop',\n",
       "       'Refusal to obtain medical treatment',\n",
       "       'Hit against inanimate object', 'Frisk and/or search', 'Other',\n",
       "       'Question and/or stop', 'Nonlethal restraining device',\n",
       "       'Retaliatory arrest', 'Chokehold', 'Gender',\n",
       "       'Nightstick as club (incl asp & baton)', 'Refusal to provide name',\n",
       "       'Seizure of property', 'Gun Pointed',\n",
       "       'Other blunt instrument as a club',\n",
       "       'Refusal to show search warrant',\n",
       "       'Threat to damage/seize property', 'Gesture',\n",
       "       'Sex Miscon (Sexual Harassment, Verbal)',\n",
       "       'Sex Miscon (Sexual Harassment, Gesture)',\n",
       "       'Forcible Removal to Hospital', 'Entry of Premises', 'Ethnicity',\n",
       "       'Threat of summons', 'Interference with recording',\n",
       "       'Threat re: removal to hospital', 'Property damaged', 'Vehicle',\n",
       "       'Photography/Videography', 'Gun Drawn', 'Demeanor/tone',\n",
       "       'Restricted Breathing', 'Body Cavity Searches',\n",
       "       'Flashlight as club', 'Electronic device information deletion',\n",
       "       'Search of recording device', 'Gun as club', 'Religion',\n",
       "       'Sexual Misconduct (Sexual Humiliation)', 'Gun fired',\n",
       "       'Gun pointed/gun drawn', 'Radio as club',\n",
       "       'Improper dissemination of medical info', 'Search of Premises',\n",
       "       'Physical disability', 'Failed to Obtain Language Interpretation',\n",
       "       'Premises entered and/or searched', 'Police shield', 'Gun pointed',\n",
       "       'Refusal to show arrest warrant',\n",
       "       'Sex Miscon (Sexual/Romantic Proposition)', 'Animal',\n",
       "       'Threat to notify ACS', 'Threat of Arrest',\n",
       "       'Questioned immigration status', 'Gender Identity'], dtype=object)"
      ]
     },
     "execution_count": 16,
     "metadata": {},
     "output_type": "execute_result"
    }
   ],
   "source": [
    "#The graph shows that male New York citizens are more likely to receive harsh treatment by the NYPD. \n",
    "#Let's take a look if there any sexist and anti-trans complaints\n",
    "#We'll first look for any unique words in the allegations columns that denote sexit or anti-LGBTQ misconduct\n",
    "df.allegation.unique()"
   ]
  },
  {
   "cell_type": "code",
   "execution_count": 17,
   "metadata": {},
   "outputs": [
    {
     "name": "stdout",
     "output_type": "stream",
     "text": [
      "Percentage of misconducts that are sexist: 0.8%\n"
     ]
    }
   ],
   "source": [
    "#We'll create a list with words in the allegations column that denote sexist misconduct\n",
    "Sexist_misconduct = ['Gender', 'Sex Miscon (Sexual Harassment, Verbal)','Sex Miscon (Sexual Harassment, Gesture)','Sexual Misconduct (Sexual Humiliation)','Sexual orientation','Sex Miscon (Sexual/Romantic Proposition)','Gender Identity']\n",
    "#We classified gender identity as a sexist misconduct because its based on one's gender\n",
    "Percent_sexist = round(df[df.allegation.isin(Sexist_misconduct)].Name.count()/df.Name.count() *100,2)\n",
    "print('Percentage of misconducts that are sexist: ' + str(Percent_sexist)+'%')"
   ]
  },
  {
   "cell_type": "code",
   "execution_count": 18,
   "metadata": {},
   "outputs": [
    {
     "name": "stdout",
     "output_type": "stream",
     "text": [
      "100.0% of sexist complaints were found to have been misconducts by the CCRB.\n"
     ]
    }
   ],
   "source": [
    "guilty_sexist =  df[(df.allegation.isin(Sexist_misconduct)) & (df['CCRB_CHECK'].isin(['substantiated','unsubstantiated']))].Name.count()/df[df.allegation.isin(Sexist_misconduct)].Name.count()\n",
    "guilty_sexist = round(guilty_sexist*100,2)\n",
    "print(str(guilty_sexist)+ '% of sexist complaints were found to have been misconducts by the CCRB.')"
   ]
  },
  {
   "cell_type": "markdown",
   "metadata": {},
   "source": [
    "##### According to the data,all the sexist complaints were successful and for every 1000 complaints,8 are sexist \n"
   ]
  },
  {
   "cell_type": "code",
   "execution_count": 19,
   "metadata": {},
   "outputs": [
    {
     "name": "stdout",
     "output_type": "stream",
     "text": [
      "Percentage of misconducts that are race related : 1.29%\n",
      "100.0% of race related complaints were found to have been misconducts by the CCRB.\n"
     ]
    }
   ],
   "source": [
    "#We'll now look at any race related misconducts\n",
    "#We'll create a list with words in the allegations column that denote race-related misconduct\n",
    "race_related = ['Race','Ethnicity']\n",
    "Percent_race = round(df[df.allegation.isin(race_related)].Name.count()/df.Name.count() *100,2)\n",
    "Percent_race = 'Percentage of misconducts that are race related : ' + str(Percent_race)+'%'\n",
    "\n",
    "guilty_race =  df[(df.allegation.isin(race_related)) & (df['CCRB_CHECK'].isin(['substantiated','unsubstantiated']))].Name.count()/df[df.allegation.isin(race_related)].Name.count()\n",
    "guilty_race = round(guilty_sexist*100,2)\n",
    "Percent_race_guilty = str(guilty_sexist)+ '% of race related complaints were found to have been misconducts by the CCRB.'\n",
    "print(Percent_race,Percent_race_guilty,sep='\\n')\n"
   ]
  },
  {
   "cell_type": "markdown",
   "metadata": {},
   "source": [
    "#### All race related complaints were deemed misconducts by the CCRB.\n",
    "#### Atleast 1 in every 100 complaint cases is race related"
   ]
  },
  {
   "cell_type": "code",
   "execution_count": 20,
   "metadata": {},
   "outputs": [
    {
     "data": {
      "text/html": [
       "<div>\n",
       "<style scoped>\n",
       "    .dataframe tbody tr th:only-of-type {\n",
       "        vertical-align: middle;\n",
       "    }\n",
       "\n",
       "    .dataframe tbody tr th {\n",
       "        vertical-align: top;\n",
       "    }\n",
       "\n",
       "    .dataframe thead th {\n",
       "        text-align: right;\n",
       "    }\n",
       "</style>\n",
       "<table border=\"1\" class=\"dataframe\">\n",
       "  <thead>\n",
       "    <tr style=\"text-align: right;\">\n",
       "      <th>fado_type</th>\n",
       "      <th>complainant_ethnicity</th>\n",
       "      <th>Abuse of Authority%</th>\n",
       "      <th>Force%</th>\n",
       "      <th>Offensive Language and Discourtesy%</th>\n",
       "    </tr>\n",
       "  </thead>\n",
       "  <tbody>\n",
       "    <tr>\n",
       "      <th>0</th>\n",
       "      <td>American Indian</td>\n",
       "      <td>73.33</td>\n",
       "      <td>11.67</td>\n",
       "      <td>15.00</td>\n",
       "    </tr>\n",
       "    <tr>\n",
       "      <th>1</th>\n",
       "      <td>Asian</td>\n",
       "      <td>62.18</td>\n",
       "      <td>18.52</td>\n",
       "      <td>19.30</td>\n",
       "    </tr>\n",
       "    <tr>\n",
       "      <th>2</th>\n",
       "      <td>Black</td>\n",
       "      <td>60.39</td>\n",
       "      <td>23.85</td>\n",
       "      <td>15.75</td>\n",
       "    </tr>\n",
       "    <tr>\n",
       "      <th>3</th>\n",
       "      <td>Hispanic</td>\n",
       "      <td>57.06</td>\n",
       "      <td>25.16</td>\n",
       "      <td>17.79</td>\n",
       "    </tr>\n",
       "    <tr>\n",
       "      <th>4</th>\n",
       "      <td>White</td>\n",
       "      <td>59.81</td>\n",
       "      <td>20.02</td>\n",
       "      <td>20.17</td>\n",
       "    </tr>\n",
       "  </tbody>\n",
       "</table>\n",
       "</div>"
      ],
      "text/plain": [
       "fado_type complainant_ethnicity  Abuse of Authority%  Force%  \\\n",
       "0               American Indian                73.33   11.67   \n",
       "1                         Asian                62.18   18.52   \n",
       "2                         Black                60.39   23.85   \n",
       "3                      Hispanic                57.06   25.16   \n",
       "4                         White                59.81   20.02   \n",
       "\n",
       "fado_type  Offensive Language and Discourtesy%  \n",
       "0                                        15.00  \n",
       "1                                        19.30  \n",
       "2                                        15.75  \n",
       "3                                        17.79  \n",
       "4                                        20.17  "
      ]
     },
     "execution_count": 20,
     "metadata": {},
     "output_type": "execute_result"
    }
   ],
   "source": [
    "#Let's take a look at the racial break down of complaints\n",
    "rp =df.pivot_table(columns='fado_type',values='Name',aggfunc='count',index='complainant_ethnicity')\n",
    "Total_fado_type=(rp['Abuse of Authority']+rp['Discourtesy']+ rp['Force']+rp['Offensive Language'])\n",
    "rp['Abuse of Authority%'] = round( rp['Abuse of Authority']/Total_fado_type *100,2)\n",
    "rp['Force%'] = round(rp['Force']/Total_fado_type *100,2)\n",
    "rp['Offensive Language and Discourtesy%'] = round((rp['Offensive Language']+rp['Discourtesy'])/Total_fado_type *100,2)\n",
    "rp.drop(['Offensive Language','Force','Discourtesy','Abuse of Authority'],axis=1,inplace=True)\n",
    "rp.reset_index(inplace=True)\n",
    "rp"
   ]
  },
  {
   "cell_type": "markdown",
   "metadata": {},
   "source": [
    "#### For each racial group, most complaints were about Abuse of athority\n",
    "#### For American Indian,Asian and Black New Yorkers, morethan 1 in 3 complaints made about police misconduct are about Abuse of Authority\n",
    "#### Hispanic and Black New Yorkers are more likely to make a complaint about bring handled aggressively by the NYPD than any other racial group\n",
    "#### White New Yorkers are more likely to make a complaint about offensive language and discourtesy than any other racial group "
   ]
  },
  {
   "cell_type": "code",
   "execution_count": 21,
   "metadata": {},
   "outputs": [
    {
     "data": {
      "text/plain": [
       "Black              16068\n",
       "Hispanic            6066\n",
       "White               2677\n",
       "Asian                513\n",
       "American Indian       60\n",
       "Name: complainant_ethnicity, dtype: int64"
      ]
     },
     "execution_count": 21,
     "metadata": {},
     "output_type": "execute_result"
    }
   ],
   "source": [
    "df.complainant_ethnicity.value_counts()"
   ]
  },
  {
   "cell_type": "code",
   "execution_count": 22,
   "metadata": {},
   "outputs": [
    {
     "data": {
      "text/html": [
       "<div>\n",
       "<style scoped>\n",
       "    .dataframe tbody tr th:only-of-type {\n",
       "        vertical-align: middle;\n",
       "    }\n",
       "\n",
       "    .dataframe tbody tr th {\n",
       "        vertical-align: top;\n",
       "    }\n",
       "\n",
       "    .dataframe thead th {\n",
       "        text-align: right;\n",
       "    }\n",
       "</style>\n",
       "<table border=\"1\" class=\"dataframe\">\n",
       "  <thead>\n",
       "    <tr style=\"text-align: right;\">\n",
       "      <th>complainant_ethnicity</th>\n",
       "      <th>American Indian%</th>\n",
       "      <th>Asian%</th>\n",
       "      <th>Black%</th>\n",
       "      <th>Hispanic%</th>\n",
       "      <th>White%</th>\n",
       "      <th>index</th>\n",
       "    </tr>\n",
       "    <tr>\n",
       "      <th>fado_type</th>\n",
       "      <th></th>\n",
       "      <th></th>\n",
       "      <th></th>\n",
       "      <th></th>\n",
       "      <th></th>\n",
       "      <th></th>\n",
       "    </tr>\n",
       "  </thead>\n",
       "  <tbody>\n",
       "    <tr>\n",
       "      <th>Abuse of Authority</th>\n",
       "      <td>0.29</td>\n",
       "      <td>2.11</td>\n",
       "      <td>64.14</td>\n",
       "      <td>22.88</td>\n",
       "      <td>10.58</td>\n",
       "      <td>0</td>\n",
       "    </tr>\n",
       "    <tr>\n",
       "      <th>Discourtesy</th>\n",
       "      <td>0.22</td>\n",
       "      <td>2.19</td>\n",
       "      <td>58.44</td>\n",
       "      <td>26.28</td>\n",
       "      <td>12.87</td>\n",
       "      <td>1</td>\n",
       "    </tr>\n",
       "    <tr>\n",
       "      <th>Force</th>\n",
       "      <td>0.12</td>\n",
       "      <td>1.58</td>\n",
       "      <td>63.92</td>\n",
       "      <td>25.45</td>\n",
       "      <td>8.94</td>\n",
       "      <td>2</td>\n",
       "    </tr>\n",
       "    <tr>\n",
       "      <th>Offensive Language</th>\n",
       "      <td>0.18</td>\n",
       "      <td>3.17</td>\n",
       "      <td>65.96</td>\n",
       "      <td>19.22</td>\n",
       "      <td>11.46</td>\n",
       "      <td>3</td>\n",
       "    </tr>\n",
       "  </tbody>\n",
       "</table>\n",
       "</div>"
      ],
      "text/plain": [
       "complainant_ethnicity  American Indian%  Asian%  Black%  Hispanic%  White%  \\\n",
       "fado_type                                                                    \n",
       "Abuse of Authority                 0.29    2.11   64.14      22.88   10.58   \n",
       "Discourtesy                        0.22    2.19   58.44      26.28   12.87   \n",
       "Force                              0.12    1.58   63.92      25.45    8.94   \n",
       "Offensive Language                 0.18    3.17   65.96      19.22   11.46   \n",
       "\n",
       "complainant_ethnicity  index  \n",
       "fado_type                     \n",
       "Abuse of Authority         0  \n",
       "Discourtesy                1  \n",
       "Force                      2  \n",
       "Offensive Language         3  "
      ]
     },
     "execution_count": 22,
     "metadata": {},
     "output_type": "execute_result"
    }
   ],
   "source": [
    "#Lastly we'll look at the commonest complainst per race\n",
    "pr = df.pivot_table(values='Name',columns='complainant_ethnicity',index='fado_type',aggfunc='count')\n",
    "\n",
    "Total_ethinc=(pr['American Indian']+pr['Asian']+ pr['Black']+pr['Hispanic'] + pr['White'])\n",
    "pr['American Indian%']= round( pr['American Indian']/Total_ethinc *100,2)\n",
    "pr['Asian%'] = round( pr['Asian']/Total_ethinc *100,2)\n",
    "pr['Black%'] = round( pr['Black']/Total_ethinc *100,2)\n",
    "pr['Hispanic%'] = round( pr['Hispanic']/Total_ethinc *100,2)\n",
    "pr['White%'] =  round( pr['White']/Total_ethinc *100,2)\n",
    "pr.drop(['American Indian','Black','White','Hispanic','Asian'],axis=1,inplace=True)\n",
    "pr['index']=np.arange(4)\n",
    "pr"
   ]
  },
  {
   "cell_type": "markdown",
   "metadata": {},
   "source": [
    "#### The data tells us that black New Yorkers are more likely to receive harsh treatment from the NYPD followed by Hispanic New Yorkers\n",
    "####  Asian and American Indian New Yorkers are less likely to receive harsh treatment than any other racial group\n"
   ]
  },
  {
   "cell_type": "code",
   "execution_count": 26,
   "metadata": {
    "scrolled": true
   },
   "outputs": [
    {
     "name": "stderr",
     "output_type": "stream",
     "text": [
      "D:\\Others\\lib\\site-packages\\ipykernel_launcher.py:3: MatplotlibDeprecationWarning: Adding an axes using the same arguments as a previous axes currently reuses the earlier instance.  In a future version, a new instance will always be created and returned.  Meanwhile, this warning can be suppressed, and the future behavior ensured, by passing a unique label to each axes instance.\n",
      "  This is separate from the ipykernel package so we can avoid doing imports until\n"
     ]
    },
    {
     "data": {
      "text/plain": [
       "<Figure size 864x576 with 0 Axes>"
      ]
     },
     "metadata": {},
     "output_type": "display_data"
    },
    {
     "data": {
      "image/png": "[encoded data removed]",
      "text/plain": [
       "<Figure size 432x288 with 1 Axes>"
      ]
     },
     "metadata": {
      "needs_background": "light"
     },
     "output_type": "display_data"
    }
   ],
   "source": [
    "plt.figure(figsize=(12,8))\n",
    "pr.plot.bar(stacked=True)\n",
    "plt.subplot(111).legend(loc='center left', bbox_to_anchor=(1, 0.5))\n",
    "plt.savefig('fado_type vs Race')\n"
   ]
  },
  {
   "cell_type": "markdown",
   "metadata": {},
   "source": [
    "## The End"
   ]
  },
  {
   "cell_type": "code",
   "execution_count": null,
   "metadata": {},
   "outputs": [],
   "source": []
  }
 ],
 "metadata": {
  "kernelspec": {
   "display_name": "Python 3",
   "language": "python",
   "name": "python3"
  },
  "language_info": {
   "codemirror_mode": {
    "name": "ipython",
    "version": 3
   },
   "file_extension": ".py",
   "mimetype": "text/x-python",
   "name": "python",
   "nbconvert_exporter": "python",
   "pygments_lexer": "ipython3",
   "version": "3.7.6"
  }
 },
 "nbformat": 4,
 "nbformat_minor": 4
}
